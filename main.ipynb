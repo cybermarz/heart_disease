{
 "cells": [
  {
   "cell_type": "code",
   "execution_count": 387,
   "metadata": {},
   "outputs": [],
   "source": [
    "# in order not to get warnings about CPU\n",
    "import os \n",
    "os.environ['TF_CPP_MIN_LOG_LEVEL'] = '2'\n",
    "\n",
    "import tensorflow as tf\n",
    "import numpy as np\n",
    "import pandas as pd\n",
    "import matplotlib.pyplot as plt\n",
    "import seaborn as sns\n",
    "from sklearn.model_selection import train_test_split\n",
    "from tensorflow import keras "
   ]
  },
  {
   "cell_type": "code",
   "execution_count": 388,
   "metadata": {},
   "outputs": [],
   "source": [
    "\n",
    "dt = pd.read_csv(\"heart.csv\")\n",
    "df = pd.DataFrame(dt)\n"
   ]
  },
  {
   "cell_type": "code",
   "execution_count": 389,
   "metadata": {},
   "outputs": [],
   "source": [
    "\n",
    "X_train = df.iloc[:,:13]\n",
    "y_train = df.iloc[:,13]\n"
   ]
  },
  {
   "cell_type": "code",
   "execution_count": 390,
   "metadata": {},
   "outputs": [],
   "source": [
    "\n",
    "X_train, X_test, y_train, y_test = train_test_split(X_train, y_train, test_size=0.15, random_state=1)\n"
   ]
  },
  {
   "cell_type": "code",
   "execution_count": 391,
   "metadata": {},
   "outputs": [
    {
     "name": "stdout",
     "output_type": "stream",
     "text": [
      "Epoch 1/10\n",
      "65/65 [==============================] - 1s 1ms/step - loss: 70.7648 - accuracy: 0.5525 - precision_28: 0.5525 - sensitivity_at_specificity_28: 0.0000e+00 - specificity_at_sensitivity_29: 0.0000e+00\n",
      "Epoch 2/10\n",
      "65/65 [==============================] - 0s 1ms/step - loss: 55.9125 - accuracy: 0.5525 - precision_28: 0.5525 - sensitivity_at_specificity_28: 0.0000e+00 - specificity_at_sensitivity_29: 0.0000e+00\n",
      "Epoch 3/10\n",
      "65/65 [==============================] - 0s 1ms/step - loss: 41.0440 - accuracy: 0.5525 - precision_28: 0.5525 - sensitivity_at_specificity_28: 0.0000e+00 - specificity_at_sensitivity_29: 0.0000e+00\n",
      "Epoch 4/10\n",
      "65/65 [==============================] - 0s 1ms/step - loss: 26.1473 - accuracy: 0.5525 - precision_28: 0.5525 - sensitivity_at_specificity_28: 0.0000e+00 - specificity_at_sensitivity_29: 0.0000e+00\n",
      "Epoch 5/10\n",
      "65/65 [==============================] - 0s 1ms/step - loss: 12.3132 - accuracy: 0.5292 - precision_28: 0.5443 - sensitivity_at_specificity_28: 0.9577 - specificity_at_sensitivity_29: 0.1130  \n",
      "Epoch 6/10\n",
      "65/65 [==============================] - 0s 1ms/step - loss: 7.1151 - accuracy: 0.3930 - precision_28: 0.4545 - sensitivity_at_specificity_28: 0.6972 - specificity_at_sensitivity_29: 0.4348    \n",
      "Epoch 7/10\n",
      "65/65 [==============================] - 0s 1ms/step - loss: 6.8577 - accuracy: 0.3813 - precision_28: 0.4380 - sensitivity_at_specificity_28: 0.6197 - specificity_at_sensitivity_29: 0.5043   \n",
      "Epoch 8/10\n",
      "65/65 [==============================] - 0s 1ms/step - loss: 6.5206 - accuracy: 0.3891 - precision_28: 0.4436 - sensitivity_at_specificity_28: 0.6479 - specificity_at_sensitivity_29: 0.5217    \n",
      "Epoch 9/10\n",
      "65/65 [==============================] - 0s 1ms/step - loss: 6.2777 - accuracy: 0.3813 - precision_28: 0.4397 - sensitivity_at_specificity_28: 0.6690 - specificity_at_sensitivity_29: 0.5217\n",
      "Epoch 10/10\n",
      "65/65 [==============================] - 0s 1ms/step - loss: 5.9492 - accuracy: 0.3813 - precision_28: 0.4414 - sensitivity_at_specificity_28: 0.7042 - specificity_at_sensitivity_29: 0.5304            \n"
     ]
    },
    {
     "data": {
      "text/plain": [
       "<keras.callbacks.History at 0x2c2b2dad370>"
      ]
     },
     "execution_count": 391,
     "metadata": {},
     "output_type": "execute_result"
    }
   ],
   "source": [
    "\n",
    "model = keras.Sequential([\n",
    "    keras.layers.Dense(1, activation='sigmoid'),\n",
    "])\n",
    "model.compile(\n",
    "    optimizer='adam',\n",
    "    loss='binary_crossentropy',\n",
    "    metrics=[\n",
    "        'accuracy',\n",
    "        keras.metrics.Precision(),\n",
    "        keras.metrics.SensitivityAtSpecificity(0.005),\n",
    "        keras.metrics.SpecificityAtSensitivity(0.005),\n",
    "    ]\n",
    ")\n",
    "\n",
    "model.fit(X_train, y_train, epochs=10, batch_size=4)\n"
   ]
  },
  {
   "cell_type": "code",
   "execution_count": 392,
   "metadata": {},
   "outputs": [
    {
     "name": "stdout",
     "output_type": "stream",
     "text": [
      "2/2 [==============================] - 0s 3ms/step - loss: 5.0475 - accuracy: 0.5217 - precision_28: 0.5217 - sensitivity_at_specificity_28: 0.6522 - specificity_at_sensitivity_29: 0.6087\n"
     ]
    },
    {
     "data": {
      "text/plain": [
       "[5.047451972961426,\n",
       " 0.52173912525177,\n",
       " 0.52173912525177,\n",
       " 0.6521739363670349,\n",
       " 0.6086956262588501]"
      ]
     },
     "execution_count": 392,
     "metadata": {},
     "output_type": "execute_result"
    }
   ],
   "source": [
    "model.evaluate(X_test,  y_test)"
   ]
  }
 ],
 "metadata": {
  "interpreter": {
   "hash": "781e53ef07953b5196b2d16d15776f60f6494556205459ffb584c30f90b985a8"
  },
  "kernelspec": {
   "display_name": "Python 3.9.7 64-bit (windows store)",
   "language": "python",
   "name": "python3"
  },
  "language_info": {
   "codemirror_mode": {
    "name": "ipython",
    "version": 3
   },
   "file_extension": ".py",
   "mimetype": "text/x-python",
   "name": "python",
   "nbconvert_exporter": "python",
   "pygments_lexer": "ipython3",
   "version": "3.9.10"
  },
  "orig_nbformat": 4
 },
 "nbformat": 4,
 "nbformat_minor": 2
}
